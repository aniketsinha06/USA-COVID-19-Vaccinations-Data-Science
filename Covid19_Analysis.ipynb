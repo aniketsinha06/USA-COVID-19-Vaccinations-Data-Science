{
 "cells": [
  {
   "cell_type": "markdown",
   "metadata": {},
   "source": [
    "# USA COVID-19 Vaccinations | Data Science"
   ]
  },
  {
   "cell_type": "markdown",
   "metadata": {},
   "source": [
    "__Description : State-by-state data on COVID-19 vaccinations in the United States using different machine learning algorithms and estimation of best one with best parameters.__   --   Aniket Sinha"
   ]
  },
  {
   "cell_type": "markdown",
   "metadata": {},
   "source": [
    "__Python libraries used :__\n",
    "    1. Pandas\n",
    "    2. Scikit-learn\n",
    "    3. Seaborn\n",
    "    4. Matplotlib"
   ]
  },
  {
   "cell_type": "markdown",
   "metadata": {},
   "source": [
    "Import pandas and create a DataFrame _df_ to read US State Vaccinations dataset. This dataset is downloaded from Kaggle."
   ]
  },
  {
   "cell_type": "code",
   "execution_count": 2,
   "metadata": {},
   "outputs": [
    {
     "data": {
      "text/html": [
       "<div>\n",
       "<style scoped>\n",
       "    .dataframe tbody tr th:only-of-type {\n",
       "        vertical-align: middle;\n",
       "    }\n",
       "\n",
       "    .dataframe tbody tr th {\n",
       "        vertical-align: top;\n",
       "    }\n",
       "\n",
       "    .dataframe thead th {\n",
       "        text-align: right;\n",
       "    }\n",
       "</style>\n",
       "<table border=\"1\" class=\"dataframe\">\n",
       "  <thead>\n",
       "    <tr style=\"text-align: right;\">\n",
       "      <th></th>\n",
       "      <th>date</th>\n",
       "      <th>location</th>\n",
       "      <th>total_vaccinations</th>\n",
       "      <th>total_distributed</th>\n",
       "      <th>people_vaccinated</th>\n",
       "      <th>people_fully_vaccinated_per_hundred</th>\n",
       "      <th>total_vaccinations_per_hundred</th>\n",
       "      <th>people_fully_vaccinated</th>\n",
       "      <th>people_vaccinated_per_hundred</th>\n",
       "      <th>distributed_per_hundred</th>\n",
       "      <th>daily_vaccinations_raw</th>\n",
       "      <th>daily_vaccinations</th>\n",
       "      <th>daily_vaccinations_per_million</th>\n",
       "      <th>share_doses_used</th>\n",
       "    </tr>\n",
       "  </thead>\n",
       "  <tbody>\n",
       "    <tr>\n",
       "      <th>0</th>\n",
       "      <td>2021-01-12</td>\n",
       "      <td>Alabama</td>\n",
       "      <td>78134.0</td>\n",
       "      <td>377025.0</td>\n",
       "      <td>70861.0</td>\n",
       "      <td>0.15</td>\n",
       "      <td>1.59</td>\n",
       "      <td>7270.0</td>\n",
       "      <td>1.45</td>\n",
       "      <td>7.69</td>\n",
       "      <td>NaN</td>\n",
       "      <td>NaN</td>\n",
       "      <td>NaN</td>\n",
       "      <td>0.207</td>\n",
       "    </tr>\n",
       "    <tr>\n",
       "      <th>1</th>\n",
       "      <td>2021-01-13</td>\n",
       "      <td>Alabama</td>\n",
       "      <td>84040.0</td>\n",
       "      <td>378975.0</td>\n",
       "      <td>74792.0</td>\n",
       "      <td>0.19</td>\n",
       "      <td>1.71</td>\n",
       "      <td>9245.0</td>\n",
       "      <td>1.53</td>\n",
       "      <td>7.73</td>\n",
       "      <td>5906.0</td>\n",
       "      <td>5906.0</td>\n",
       "      <td>1205.0</td>\n",
       "      <td>0.222</td>\n",
       "    </tr>\n",
       "    <tr>\n",
       "      <th>2</th>\n",
       "      <td>2021-01-14</td>\n",
       "      <td>Alabama</td>\n",
       "      <td>92300.0</td>\n",
       "      <td>435350.0</td>\n",
       "      <td>80480.0</td>\n",
       "      <td>NaN</td>\n",
       "      <td>1.88</td>\n",
       "      <td>NaN</td>\n",
       "      <td>1.64</td>\n",
       "      <td>8.88</td>\n",
       "      <td>8260.0</td>\n",
       "      <td>7083.0</td>\n",
       "      <td>1445.0</td>\n",
       "      <td>0.212</td>\n",
       "    </tr>\n",
       "    <tr>\n",
       "      <th>3</th>\n",
       "      <td>2021-01-15</td>\n",
       "      <td>Alabama</td>\n",
       "      <td>100567.0</td>\n",
       "      <td>444650.0</td>\n",
       "      <td>86956.0</td>\n",
       "      <td>0.28</td>\n",
       "      <td>2.05</td>\n",
       "      <td>13488.0</td>\n",
       "      <td>1.77</td>\n",
       "      <td>9.07</td>\n",
       "      <td>8267.0</td>\n",
       "      <td>7478.0</td>\n",
       "      <td>1525.0</td>\n",
       "      <td>0.226</td>\n",
       "    </tr>\n",
       "    <tr>\n",
       "      <th>4</th>\n",
       "      <td>2021-01-16</td>\n",
       "      <td>Alabama</td>\n",
       "      <td>NaN</td>\n",
       "      <td>NaN</td>\n",
       "      <td>NaN</td>\n",
       "      <td>NaN</td>\n",
       "      <td>NaN</td>\n",
       "      <td>NaN</td>\n",
       "      <td>NaN</td>\n",
       "      <td>NaN</td>\n",
       "      <td>7557.0</td>\n",
       "      <td>7498.0</td>\n",
       "      <td>1529.0</td>\n",
       "      <td>NaN</td>\n",
       "    </tr>\n",
       "  </tbody>\n",
       "</table>\n",
       "</div>"
      ],
      "text/plain": [
       "         date location  total_vaccinations  total_distributed  \\\n",
       "0  2021-01-12  Alabama             78134.0           377025.0   \n",
       "1  2021-01-13  Alabama             84040.0           378975.0   \n",
       "2  2021-01-14  Alabama             92300.0           435350.0   \n",
       "3  2021-01-15  Alabama            100567.0           444650.0   \n",
       "4  2021-01-16  Alabama                 NaN                NaN   \n",
       "\n",
       "   people_vaccinated  people_fully_vaccinated_per_hundred  \\\n",
       "0            70861.0                                 0.15   \n",
       "1            74792.0                                 0.19   \n",
       "2            80480.0                                  NaN   \n",
       "3            86956.0                                 0.28   \n",
       "4                NaN                                  NaN   \n",
       "\n",
       "   total_vaccinations_per_hundred  people_fully_vaccinated  \\\n",
       "0                            1.59                   7270.0   \n",
       "1                            1.71                   9245.0   \n",
       "2                            1.88                      NaN   \n",
       "3                            2.05                  13488.0   \n",
       "4                             NaN                      NaN   \n",
       "\n",
       "   people_vaccinated_per_hundred  distributed_per_hundred  \\\n",
       "0                           1.45                     7.69   \n",
       "1                           1.53                     7.73   \n",
       "2                           1.64                     8.88   \n",
       "3                           1.77                     9.07   \n",
       "4                            NaN                      NaN   \n",
       "\n",
       "   daily_vaccinations_raw  daily_vaccinations  daily_vaccinations_per_million  \\\n",
       "0                     NaN                 NaN                             NaN   \n",
       "1                  5906.0              5906.0                          1205.0   \n",
       "2                  8260.0              7083.0                          1445.0   \n",
       "3                  8267.0              7478.0                          1525.0   \n",
       "4                  7557.0              7498.0                          1529.0   \n",
       "\n",
       "   share_doses_used  \n",
       "0             0.207  \n",
       "1             0.222  \n",
       "2             0.212  \n",
       "3             0.226  \n",
       "4               NaN  "
      ]
     },
     "execution_count": 2,
     "metadata": {},
     "output_type": "execute_result"
    }
   ],
   "source": [
    "import pandas as pd\n",
    "df = pd.read_csv('us_state_vaccinations.csv')\n",
    "df.head()"
   ]
  },
  {
   "cell_type": "code",
   "execution_count": 6,
   "metadata": {},
   "outputs": [
    {
     "data": {
      "text/plain": [
       "(9773, 14)"
      ]
     },
     "execution_count": 6,
     "metadata": {},
     "output_type": "execute_result"
    }
   ],
   "source": [
    "df.shape"
   ]
  },
  {
   "cell_type": "code",
   "execution_count": 7,
   "metadata": {},
   "outputs": [
    {
     "data": {
      "text/plain": [
       "Index(['date', 'location', 'total_vaccinations', 'total_distributed',\n",
       "       'people_vaccinated', 'people_fully_vaccinated_per_hundred',\n",
       "       'total_vaccinations_per_hundred', 'people_fully_vaccinated',\n",
       "       'people_vaccinated_per_hundred', 'distributed_per_hundred',\n",
       "       'daily_vaccinations_raw', 'daily_vaccinations',\n",
       "       'daily_vaccinations_per_million', 'share_doses_used'],\n",
       "      dtype='object')"
      ]
     },
     "execution_count": 7,
     "metadata": {},
     "output_type": "execute_result"
    }
   ],
   "source": [
    "df.columns"
   ]
  },
  {
   "cell_type": "code",
   "execution_count": 8,
   "metadata": {},
   "outputs": [
    {
     "data": {
      "text/plain": [
       "total_vaccinations\n",
       "416.0          1\n",
       "424.0          1\n",
       "565.0          1\n",
       "605.0          1\n",
       "639.0          1\n",
       "              ..\n",
       "301638578.0    1\n",
       "302851917.0    1\n",
       "303923667.0    1\n",
       "304753476.0    1\n",
       "305687618.0    1\n",
       "Name: total_vaccinations, Length: 9053, dtype: int64"
      ]
     },
     "execution_count": 8,
     "metadata": {},
     "output_type": "execute_result"
    }
   ],
   "source": [
    "df.groupby('total_vaccinations')['total_vaccinations'].agg('count')"
   ]
  },
  {
   "cell_type": "markdown",
   "metadata": {},
   "source": [
    "## Data Analysis and Cleaning"
   ]
  },
  {
   "cell_type": "markdown",
   "metadata": {},
   "source": [
    "DataFrame consists of information which do not contribute in the prediction of Vaccinations at all like - \n",
    "people_fully_vaccinated_per_hundred, total_vaccinations_per_hundred etc."
   ]
  },
  {
   "cell_type": "markdown",
   "metadata": {},
   "source": [
    "Creating DataFrame _df2_ after filtering unwanted information.\n"
   ]
  },
  {
   "cell_type": "code",
   "execution_count": 12,
   "metadata": {},
   "outputs": [
    {
     "data": {
      "text/html": [
       "<div>\n",
       "<style scoped>\n",
       "    .dataframe tbody tr th:only-of-type {\n",
       "        vertical-align: middle;\n",
       "    }\n",
       "\n",
       "    .dataframe tbody tr th {\n",
       "        vertical-align: top;\n",
       "    }\n",
       "\n",
       "    .dataframe thead th {\n",
       "        text-align: right;\n",
       "    }\n",
       "</style>\n",
       "<table border=\"1\" class=\"dataframe\">\n",
       "  <thead>\n",
       "    <tr style=\"text-align: right;\">\n",
       "      <th></th>\n",
       "      <th>date</th>\n",
       "      <th>location</th>\n",
       "      <th>total_vaccinations</th>\n",
       "      <th>people_vaccinated</th>\n",
       "    </tr>\n",
       "  </thead>\n",
       "  <tbody>\n",
       "    <tr>\n",
       "      <th>0</th>\n",
       "      <td>2021-01-12</td>\n",
       "      <td>Alabama</td>\n",
       "      <td>78134.0</td>\n",
       "      <td>70861.0</td>\n",
       "    </tr>\n",
       "    <tr>\n",
       "      <th>1</th>\n",
       "      <td>2021-01-13</td>\n",
       "      <td>Alabama</td>\n",
       "      <td>84040.0</td>\n",
       "      <td>74792.0</td>\n",
       "    </tr>\n",
       "    <tr>\n",
       "      <th>2</th>\n",
       "      <td>2021-01-14</td>\n",
       "      <td>Alabama</td>\n",
       "      <td>92300.0</td>\n",
       "      <td>80480.0</td>\n",
       "    </tr>\n",
       "    <tr>\n",
       "      <th>3</th>\n",
       "      <td>2021-01-15</td>\n",
       "      <td>Alabama</td>\n",
       "      <td>100567.0</td>\n",
       "      <td>86956.0</td>\n",
       "    </tr>\n",
       "    <tr>\n",
       "      <th>4</th>\n",
       "      <td>2021-01-16</td>\n",
       "      <td>Alabama</td>\n",
       "      <td>NaN</td>\n",
       "      <td>NaN</td>\n",
       "    </tr>\n",
       "  </tbody>\n",
       "</table>\n",
       "</div>"
      ],
      "text/plain": [
       "         date location  total_vaccinations  people_vaccinated\n",
       "0  2021-01-12  Alabama             78134.0            70861.0\n",
       "1  2021-01-13  Alabama             84040.0            74792.0\n",
       "2  2021-01-14  Alabama             92300.0            80480.0\n",
       "3  2021-01-15  Alabama            100567.0            86956.0\n",
       "4  2021-01-16  Alabama                 NaN                NaN"
      ]
     },
     "execution_count": 12,
     "metadata": {},
     "output_type": "execute_result"
    }
   ],
   "source": [
    "df2 = df[['date', 'location', 'total_vaccinations', 'people_vaccinated']]\n",
    "df2.head()"
   ]
  },
  {
   "cell_type": "markdown",
   "metadata": {},
   "source": [
    "Couple of things to be taken care of :\n",
    "    1. Dealing with NULL values\n",
    "    2. Dealing with exceptional entries\n",
    "    3. Taking care of Unformatted entries\n",
    "    4. Create dummy values for locations"
   ]
  },
  {
   "cell_type": "markdown",
   "metadata": {},
   "source": [
    "### 1. Dealing with NULL values"
   ]
  },
  {
   "cell_type": "markdown",
   "metadata": {},
   "source": [
    "We will check how many values are NULL in each column."
   ]
  },
  {
   "cell_type": "code",
   "execution_count": 13,
   "metadata": {},
   "outputs": [
    {
     "data": {
      "text/plain": [
       "date                    0\n",
       "location                0\n",
       "total_vaccinations    335\n",
       "people_vaccinated     502\n",
       "dtype: int64"
      ]
     },
     "execution_count": 13,
     "metadata": {},
     "output_type": "execute_result"
    }
   ],
   "source": [
    "df2.isna().sum()"
   ]
  },
  {
   "cell_type": "code",
   "execution_count": 14,
   "metadata": {},
   "outputs": [
    {
     "data": {
      "text/plain": [
       "(9773, 4)"
      ]
     },
     "execution_count": 14,
     "metadata": {},
     "output_type": "execute_result"
    }
   ],
   "source": [
    "df2.shape"
   ]
  },
  {
   "cell_type": "markdown",
   "metadata": {},
   "source": [
    "We can see that column = _'total_vaccinations'_ has 335 and column _'people_vaccinated'_ has 502 NULL values. We have total 837 NULL values in our updated dataframe. \n"
   ]
  },
  {
   "cell_type": "markdown",
   "metadata": {},
   "source": [
    "df2 has 9773 rows, so droping these NULL rows will make no difference in our training."
   ]
  },
  {
   "cell_type": "code",
   "execution_count": 15,
   "metadata": {},
   "outputs": [],
   "source": [
    "df3 = df2.dropna()"
   ]
  },
  {
   "cell_type": "code",
   "execution_count": 16,
   "metadata": {},
   "outputs": [
    {
     "data": {
      "text/plain": [
       "(9271, 4)"
      ]
     },
     "execution_count": 16,
     "metadata": {},
     "output_type": "execute_result"
    }
   ],
   "source": [
    "df3.shape"
   ]
  },
  {
   "cell_type": "code",
   "execution_count": 17,
   "metadata": {},
   "outputs": [
    {
     "data": {
      "text/html": [
       "<div>\n",
       "<style scoped>\n",
       "    .dataframe tbody tr th:only-of-type {\n",
       "        vertical-align: middle;\n",
       "    }\n",
       "\n",
       "    .dataframe tbody tr th {\n",
       "        vertical-align: top;\n",
       "    }\n",
       "\n",
       "    .dataframe thead th {\n",
       "        text-align: right;\n",
       "    }\n",
       "</style>\n",
       "<table border=\"1\" class=\"dataframe\">\n",
       "  <thead>\n",
       "    <tr style=\"text-align: right;\">\n",
       "      <th></th>\n",
       "      <th>date</th>\n",
       "      <th>location</th>\n",
       "      <th>total_vaccinations</th>\n",
       "      <th>people_vaccinated</th>\n",
       "    </tr>\n",
       "  </thead>\n",
       "  <tbody>\n",
       "    <tr>\n",
       "      <th>0</th>\n",
       "      <td>2021-01-12</td>\n",
       "      <td>Alabama</td>\n",
       "      <td>78134.0</td>\n",
       "      <td>70861.0</td>\n",
       "    </tr>\n",
       "    <tr>\n",
       "      <th>1</th>\n",
       "      <td>2021-01-13</td>\n",
       "      <td>Alabama</td>\n",
       "      <td>84040.0</td>\n",
       "      <td>74792.0</td>\n",
       "    </tr>\n",
       "    <tr>\n",
       "      <th>2</th>\n",
       "      <td>2021-01-14</td>\n",
       "      <td>Alabama</td>\n",
       "      <td>92300.0</td>\n",
       "      <td>80480.0</td>\n",
       "    </tr>\n",
       "    <tr>\n",
       "      <th>3</th>\n",
       "      <td>2021-01-15</td>\n",
       "      <td>Alabama</td>\n",
       "      <td>100567.0</td>\n",
       "      <td>86956.0</td>\n",
       "    </tr>\n",
       "    <tr>\n",
       "      <th>7</th>\n",
       "      <td>2021-01-19</td>\n",
       "      <td>Alabama</td>\n",
       "      <td>130795.0</td>\n",
       "      <td>114319.0</td>\n",
       "    </tr>\n",
       "  </tbody>\n",
       "</table>\n",
       "</div>"
      ],
      "text/plain": [
       "         date location  total_vaccinations  people_vaccinated\n",
       "0  2021-01-12  Alabama             78134.0            70861.0\n",
       "1  2021-01-13  Alabama             84040.0            74792.0\n",
       "2  2021-01-14  Alabama             92300.0            80480.0\n",
       "3  2021-01-15  Alabama            100567.0            86956.0\n",
       "7  2021-01-19  Alabama            130795.0           114319.0"
      ]
     },
     "execution_count": 17,
     "metadata": {},
     "output_type": "execute_result"
    }
   ],
   "source": [
    "df3.head()"
   ]
  },
  {
   "cell_type": "code",
   "execution_count": 18,
   "metadata": {},
   "outputs": [
    {
     "data": {
      "text/plain": [
       "date                  0\n",
       "location              0\n",
       "total_vaccinations    0\n",
       "people_vaccinated     0\n",
       "dtype: int64"
      ]
     },
     "execution_count": 18,
     "metadata": {},
     "output_type": "execute_result"
    }
   ],
   "source": [
    "df3.isnull().sum()"
   ]
  },
  {
   "cell_type": "markdown",
   "metadata": {},
   "source": [
    "Dataset does not have any other NULL entries."
   ]
  },
  {
   "cell_type": "code",
   "execution_count": 20,
   "metadata": {},
   "outputs": [
    {
     "data": {
      "text/plain": [
       "array(['2021-01-12', '2021-01-13', '2021-01-14', '2021-01-15',\n",
       "       '2021-01-19', '2021-01-20', '2021-01-21', '2021-01-22',\n",
       "       '2021-01-23', '2021-01-24', '2021-01-25', '2021-01-26',\n",
       "       '2021-01-27', '2021-01-28', '2021-01-29', '2021-01-30',\n",
       "       '2021-01-31', '2021-02-01', '2021-02-02', '2021-02-03',\n",
       "       '2021-02-04', '2021-02-05', '2021-02-06', '2021-02-07',\n",
       "       '2021-02-08', '2021-02-09', '2021-02-10', '2021-02-11',\n",
       "       '2021-02-12', '2021-02-13', '2021-02-14', '2021-02-16',\n",
       "       '2021-02-17', '2021-02-18', '2021-02-19', '2021-02-20',\n",
       "       '2021-02-21', '2021-02-22', '2021-02-23', '2021-02-24',\n",
       "       '2021-02-25', '2021-02-26', '2021-02-27', '2021-02-28',\n",
       "       '2021-03-01', '2021-03-02', '2021-03-03', '2021-03-04',\n",
       "       '2021-03-05', '2021-03-06', '2021-03-07', '2021-03-08',\n",
       "       '2021-03-09', '2021-03-10', '2021-03-11', '2021-03-12',\n",
       "       '2021-03-13', '2021-03-14', '2021-03-15', '2021-03-16',\n",
       "       '2021-03-17', '2021-03-18', '2021-03-19', '2021-03-20',\n",
       "       '2021-03-21', '2021-03-22', '2021-03-23', '2021-03-24',\n",
       "       '2021-03-25', '2021-03-26', '2021-03-27', '2021-03-28',\n",
       "       '2021-03-29', '2021-03-30', '2021-03-31', '2021-04-01',\n",
       "       '2021-04-02', '2021-04-03', '2021-04-04', '2021-04-05',\n",
       "       '2021-04-06', '2021-04-07', '2021-04-08', '2021-04-09',\n",
       "       '2021-04-10', '2021-04-11', '2021-04-12', '2021-04-13',\n",
       "       '2021-04-14', '2021-04-15', '2021-04-16', '2021-04-17',\n",
       "       '2021-04-18', '2021-04-19', '2021-04-20', '2021-04-21',\n",
       "       '2021-04-22', '2021-04-23', '2021-04-24', '2021-04-25',\n",
       "       '2021-04-26', '2021-04-27', '2021-04-28', '2021-04-29',\n",
       "       '2021-04-30', '2021-05-01', '2021-05-02', '2021-05-03',\n",
       "       '2021-05-04', '2021-05-05', '2021-05-06', '2021-05-07',\n",
       "       '2021-05-08', '2021-05-09', '2021-05-10', '2021-05-11',\n",
       "       '2021-05-12', '2021-05-13', '2021-05-14', '2021-05-15',\n",
       "       '2021-05-16', '2021-05-17', '2021-05-18', '2021-05-19',\n",
       "       '2021-05-20', '2021-05-21', '2021-05-22', '2021-05-23',\n",
       "       '2021-05-24', '2021-05-25', '2021-05-26', '2021-05-27',\n",
       "       '2021-05-28', '2021-05-29', '2021-05-30', '2021-06-01',\n",
       "       '2021-06-02', '2021-06-03', '2021-06-04', '2021-06-05',\n",
       "       '2021-06-06', '2021-06-07', '2021-06-08', '2021-06-09',\n",
       "       '2021-06-10'], dtype=object)"
      ]
     },
     "execution_count": 20,
     "metadata": {},
     "output_type": "execute_result"
    }
   ],
   "source": [
    "df3['date'].unique()"
   ]
  },
  {
   "cell_type": "code",
   "execution_count": 26,
   "metadata": {},
   "outputs": [
    {
     "data": {
      "text/plain": [
       "array(['Alabama', 'Alaska', 'American Samoa', 'Arizona', 'Arkansas',\n",
       "       'Bureau of Prisons', 'California', 'Colorado', 'Connecticut',\n",
       "       'Delaware', 'Dept of Defense', 'District of Columbia',\n",
       "       'Federated States of Micronesia', 'Florida', 'Georgia', 'Guam',\n",
       "       'Hawaii', 'Idaho', 'Illinois', 'Indian Health Svc', 'Indiana',\n",
       "       'Iowa', 'Kansas', 'Kentucky', 'Long Term Care', 'Louisiana',\n",
       "       'Maine', 'Marshall Islands', 'Maryland', 'Massachusetts',\n",
       "       'Michigan', 'Minnesota', 'Mississippi', 'Missouri', 'Montana',\n",
       "       'Nebraska', 'Nevada', 'New Hampshire', 'New Jersey', 'New Mexico',\n",
       "       'New York State', 'North Carolina', 'North Dakota',\n",
       "       'Northern Mariana Islands', 'Ohio', 'Oklahoma', 'Oregon',\n",
       "       'Pennsylvania', 'Puerto Rico', 'Republic of Palau', 'Rhode Island',\n",
       "       'South Carolina', 'South Dakota', 'Tennessee', 'Texas',\n",
       "       'United States', 'Utah', 'Vermont', 'Veterans Health',\n",
       "       'Virgin Islands', 'Virginia', 'Washington', 'West Virginia',\n",
       "       'Wisconsin', 'Wyoming'], dtype=object)"
      ]
     },
     "execution_count": 26,
     "metadata": {},
     "output_type": "execute_result"
    }
   ],
   "source": [
    "df3['location'].unique()"
   ]
  },
  {
   "cell_type": "markdown",
   "metadata": {},
   "source": [
    "It seems that other columns have proper entries. Let us check if they are of type _integer_ , _float_ or something else. "
   ]
  },
  {
   "cell_type": "code",
   "execution_count": 28,
   "metadata": {},
   "outputs": [
    {
     "data": {
      "text/plain": [
       "65"
      ]
     },
     "execution_count": 28,
     "metadata": {},
     "output_type": "execute_result"
    }
   ],
   "source": [
    "df4 = df3.copy()\n",
    "len(df4.location.unique())"
   ]
  },
  {
   "cell_type": "code",
   "execution_count": 30,
   "metadata": {},
   "outputs": [
    {
     "data": {
      "text/plain": [
       "location\n",
       "Wyoming                           145\n",
       "Idaho                             145\n",
       "Minnesota                         145\n",
       "Michigan                          145\n",
       "Massachusetts                     145\n",
       "Maryland                          145\n",
       "Marshall Islands                  145\n",
       "Maine                             145\n",
       "Louisiana                         145\n",
       "Kentucky                          145\n",
       "Kansas                            145\n",
       "Iowa                              145\n",
       "Indiana                           145\n",
       "Indian Health Svc                 145\n",
       "Illinois                          145\n",
       "Guam                              145\n",
       "Missouri                          145\n",
       "Georgia                           145\n",
       "Florida                           145\n",
       "Federated States of Micronesia    145\n",
       "Dept of Defense                   145\n",
       "Delaware                          145\n",
       "Connecticut                       145\n",
       "Colorado                          145\n",
       "California                        145\n",
       "Bureau of Prisons                 145\n",
       "Arkansas                          145\n",
       "Arizona                           145\n",
       "American Samoa                    145\n",
       "Alaska                            145\n",
       "Wisconsin                         145\n",
       "Mississippi                       145\n",
       "Montana                           145\n",
       "Pennsylvania                      145\n",
       "Washington                        145\n",
       "Veterans Health                   145\n",
       "Utah                              145\n",
       "United States                     145\n",
       "Texas                             145\n",
       "Tennessee                         145\n",
       "South Dakota                      145\n",
       "South Carolina                    145\n",
       "Rhode Island                      145\n",
       "Republic of Palau                 145\n",
       "Nebraska                          145\n",
       "Puerto Rico                       145\n",
       "Alabama                           145\n",
       "Oregon                            145\n",
       "North Carolina                    145\n",
       "Nevada                            145\n",
       "New Hampshire                     145\n",
       "New Jersey                        145\n",
       "Oklahoma                          145\n",
       "New York State                    145\n",
       "New Mexico                        145\n",
       "North Dakota                      145\n",
       "Northern Mariana Islands          145\n",
       "Ohio                              145\n",
       "District of Columbia              144\n",
       "Vermont                           143\n",
       "Name: location, dtype: int64"
      ]
     },
     "execution_count": 30,
     "metadata": {},
     "output_type": "execute_result"
    }
   ],
   "source": [
    "df4.location.apply(lambda x : x.strip())\n",
    "location_stats = df4.groupby('location')['location'].agg('count').sort_values(ascending = False)\n",
    "location_stats[:60]"
   ]
  },
  {
   "cell_type": "code",
   "execution_count": 31,
   "metadata": {},
   "outputs": [
    {
     "data": {
      "text/plain": [
       "1"
      ]
     },
     "execution_count": 31,
     "metadata": {},
     "output_type": "execute_result"
    }
   ],
   "source": [
    "len(location_stats[location_stats <= 10])"
   ]
  },
  {
   "cell_type": "code",
   "execution_count": 32,
   "metadata": {},
   "outputs": [
    {
     "data": {
      "text/plain": [
       "location\n",
       "Long Term Care    3\n",
       "Name: location, dtype: int64"
      ]
     },
     "execution_count": 32,
     "metadata": {},
     "output_type": "execute_result"
    }
   ],
   "source": [
    "location_stats_less_than_10 = location_stats[location_stats <=10]\n",
    "location_stats_less_than_10"
   ]
  },
  {
   "cell_type": "code",
   "execution_count": 33,
   "metadata": {},
   "outputs": [
    {
     "data": {
      "text/plain": [
       "(9271, 4)"
      ]
     },
     "execution_count": 33,
     "metadata": {},
     "output_type": "execute_result"
    }
   ],
   "source": [
    "df4.shape"
   ]
  },
  {
   "cell_type": "markdown",
   "metadata": {},
   "source": [
    "### Visulaizing Features"
   ]
  },
  {
   "cell_type": "code",
   "execution_count": 66,
   "metadata": {},
   "outputs": [
    {
     "data": {
      "text/plain": [
       "<seaborn.axisgrid.FacetGrid at 0x1be6285a148>"
      ]
     },
     "execution_count": 66,
     "metadata": {},
     "output_type": "execute_result"
    },
    {
     "data": {
      "image/png": "[encoded data removed]",
      "text/plain": [
       "<Figure size 360x360 with 1 Axes>"
      ]
     },
     "metadata": {
      "needs_background": "light"
     },
     "output_type": "display_data"
    }
   ],
   "source": [
    "import seaborn as sns\n",
    "\n",
    "sns.relplot(x=\"date\", y=\"people_vaccinated\", data = df4, kind = 'line')"
   ]
  },
  {
   "cell_type": "code",
   "execution_count": 34,
   "metadata": {},
   "outputs": [
    {
     "data": {
      "text/plain": [
       "Index(['date', 'location', 'total_vaccinations', 'people_vaccinated'], dtype='object')"
      ]
     },
     "execution_count": 34,
     "metadata": {},
     "output_type": "execute_result"
    }
   ],
   "source": [
    "df4.columns"
   ]
  },
  {
   "cell_type": "code",
   "execution_count": 40,
   "metadata": {},
   "outputs": [
    {
     "data": {
      "text/plain": [
       "<matplotlib.collections.PathCollection at 0x1be5c904a08>"
      ]
     },
     "execution_count": 40,
     "metadata": {},
     "output_type": "execute_result"
    },
    {
     "data": {
      "image/png": "[encoded data removed]",
      "text/plain": [
       "<Figure size 1080x1080 with 1 Axes>"
      ]
     },
     "metadata": {
      "needs_background": "light"
     },
     "output_type": "display_data"
    }
   ],
   "source": [
    "import matplotlib.pyplot as plt\n",
    "plt.rcParams['figure.figsize'] = (15, 15)\n",
    "plt.scatter(df4.total_vaccinations, df4.location, marker = '.', color = 'blue', label = 'total vaccinations')"
   ]
  },
  {
   "cell_type": "code",
   "execution_count": 48,
   "metadata": {},
   "outputs": [
    {
     "data": {
      "text/plain": [
       "<matplotlib.collections.PathCollection at 0x1be5f344488>"
      ]
     },
     "execution_count": 48,
     "metadata": {},
     "output_type": "execute_result"
    },
    {
     "data": {
      "image/png": "[encoded data removed]",
      "text/plain": [
       "<Figure size 1080x1080 with 1 Axes>"
      ]
     },
     "metadata": {
      "needs_background": "light"
     },
     "output_type": "display_data"
    }
   ],
   "source": [
    "plt.rcParams['figure.figsize'] = (15, 15)\n",
    "plt.scatter(df4.people_vaccinated, df4.location, marker = '_', color = 'green', label = 'total vaccinations')"
   ]
  },
  {
   "cell_type": "markdown",
   "metadata": {},
   "source": [
    "__Data is almost clean. Let us visulaize histogram of _price_per_sqft_ to get the maximum and minimum cout of prices.__"
   ]
  },
  {
   "cell_type": "code",
   "execution_count": 50,
   "metadata": {},
   "outputs": [
    {
     "data": {
      "text/plain": [
       "Text(0, 0.5, 'total_vaccinated')"
      ]
     },
     "execution_count": 50,
     "metadata": {},
     "output_type": "execute_result"
    },
    {
     "data": {
      "image/png": "[encoded data removed]",
      "text/plain": [
       "<Figure size 720x432 with 1 Axes>"
      ]
     },
     "metadata": {
      "needs_background": "light"
     },
     "output_type": "display_data"
    }
   ],
   "source": [
    "# Plotting histogram of price_per_sqft\n",
    "plt.rcParams['figure.figsize'] = (10, 6)\n",
    "plt.hist(df4.people_vaccinated, rwidth = 0.8)\n",
    "plt.xlabel('location')\n",
    "plt.ylabel('total_vaccinated')"
   ]
  },
  {
   "cell_type": "code",
   "execution_count": 54,
   "metadata": {},
   "outputs": [
    {
     "data": {
      "text/html": [
       "<div>\n",
       "<style scoped>\n",
       "    .dataframe tbody tr th:only-of-type {\n",
       "        vertical-align: middle;\n",
       "    }\n",
       "\n",
       "    .dataframe tbody tr th {\n",
       "        vertical-align: top;\n",
       "    }\n",
       "\n",
       "    .dataframe thead th {\n",
       "        text-align: right;\n",
       "    }\n",
       "</style>\n",
       "<table border=\"1\" class=\"dataframe\">\n",
       "  <thead>\n",
       "    <tr style=\"text-align: right;\">\n",
       "      <th></th>\n",
       "      <th>date</th>\n",
       "      <th>location</th>\n",
       "      <th>total_vaccinations</th>\n",
       "      <th>people_vaccinated</th>\n",
       "    </tr>\n",
       "  </thead>\n",
       "  <tbody>\n",
       "    <tr>\n",
       "      <th>0</th>\n",
       "      <td>2021-01-12</td>\n",
       "      <td>Alabama</td>\n",
       "      <td>78134.0</td>\n",
       "      <td>70861.0</td>\n",
       "    </tr>\n",
       "    <tr>\n",
       "      <th>1</th>\n",
       "      <td>2021-01-13</td>\n",
       "      <td>Alabama</td>\n",
       "      <td>84040.0</td>\n",
       "      <td>74792.0</td>\n",
       "    </tr>\n",
       "    <tr>\n",
       "      <th>2</th>\n",
       "      <td>2021-01-14</td>\n",
       "      <td>Alabama</td>\n",
       "      <td>92300.0</td>\n",
       "      <td>80480.0</td>\n",
       "    </tr>\n",
       "    <tr>\n",
       "      <th>3</th>\n",
       "      <td>2021-01-15</td>\n",
       "      <td>Alabama</td>\n",
       "      <td>100567.0</td>\n",
       "      <td>86956.0</td>\n",
       "    </tr>\n",
       "    <tr>\n",
       "      <th>7</th>\n",
       "      <td>2021-01-19</td>\n",
       "      <td>Alabama</td>\n",
       "      <td>130795.0</td>\n",
       "      <td>114319.0</td>\n",
       "    </tr>\n",
       "  </tbody>\n",
       "</table>\n",
       "</div>"
      ],
      "text/plain": [
       "         date location  total_vaccinations  people_vaccinated\n",
       "0  2021-01-12  Alabama             78134.0            70861.0\n",
       "1  2021-01-13  Alabama             84040.0            74792.0\n",
       "2  2021-01-14  Alabama             92300.0            80480.0\n",
       "3  2021-01-15  Alabama            100567.0            86956.0\n",
       "7  2021-01-19  Alabama            130795.0           114319.0"
      ]
     },
     "execution_count": 54,
     "metadata": {},
     "output_type": "execute_result"
    }
   ],
   "source": [
    "df4.head()"
   ]
  },
  {
   "cell_type": "code",
   "execution_count": 67,
   "metadata": {},
   "outputs": [
    {
     "data": {
      "text/plain": [
       "<seaborn.axisgrid.PairGrid at 0x1be629ee848>"
      ]
     },
     "execution_count": 67,
     "metadata": {},
     "output_type": "execute_result"
    },
    {
     "data": {
      "image/png": "[encoded data removed]",
      "text/plain": [
       "<Figure size 360x360 with 6 Axes>"
      ]
     },
     "metadata": {
      "needs_background": "light"
     },
     "output_type": "display_data"
    }
   ],
   "source": [
    "sns.pairplot(df4)"
   ]
  },
  {
   "cell_type": "code",
   "execution_count": 53,
   "metadata": {},
   "outputs": [
    {
     "data": {
      "text/plain": [
       "(9271, 4)"
      ]
     },
     "execution_count": 53,
     "metadata": {},
     "output_type": "execute_result"
    }
   ],
   "source": [
    "df4.shape"
   ]
  },
  {
   "cell_type": "markdown",
   "metadata": {},
   "source": [
    "__Data is very clean now and is ready for training.__"
   ]
  },
  {
   "cell_type": "markdown",
   "metadata": {},
   "source": [
    "Machine Learning Models work only with numbers. Converting values in __Location__ column to digits by creating dummy values for them."
   ]
  },
  {
   "cell_type": "code",
   "execution_count": 55,
   "metadata": {},
   "outputs": [
    {
     "data": {
      "text/html": [
       "<div>\n",
       "<style scoped>\n",
       "    .dataframe tbody tr th:only-of-type {\n",
       "        vertical-align: middle;\n",
       "    }\n",
       "\n",
       "    .dataframe tbody tr th {\n",
       "        vertical-align: top;\n",
       "    }\n",
       "\n",
       "    .dataframe thead th {\n",
       "        text-align: right;\n",
       "    }\n",
       "</style>\n",
       "<table border=\"1\" class=\"dataframe\">\n",
       "  <thead>\n",
       "    <tr style=\"text-align: right;\">\n",
       "      <th></th>\n",
       "      <th>Alabama</th>\n",
       "      <th>Alaska</th>\n",
       "      <th>American Samoa</th>\n",
       "      <th>Arizona</th>\n",
       "      <th>Arkansas</th>\n",
       "      <th>Bureau of Prisons</th>\n",
       "      <th>California</th>\n",
       "      <th>Colorado</th>\n",
       "      <th>Connecticut</th>\n",
       "      <th>Delaware</th>\n",
       "      <th>...</th>\n",
       "      <th>United States</th>\n",
       "      <th>Utah</th>\n",
       "      <th>Vermont</th>\n",
       "      <th>Veterans Health</th>\n",
       "      <th>Virgin Islands</th>\n",
       "      <th>Virginia</th>\n",
       "      <th>Washington</th>\n",
       "      <th>West Virginia</th>\n",
       "      <th>Wisconsin</th>\n",
       "      <th>Wyoming</th>\n",
       "    </tr>\n",
       "  </thead>\n",
       "  <tbody>\n",
       "    <tr>\n",
       "      <th>0</th>\n",
       "      <td>1</td>\n",
       "      <td>0</td>\n",
       "      <td>0</td>\n",
       "      <td>0</td>\n",
       "      <td>0</td>\n",
       "      <td>0</td>\n",
       "      <td>0</td>\n",
       "      <td>0</td>\n",
       "      <td>0</td>\n",
       "      <td>0</td>\n",
       "      <td>...</td>\n",
       "      <td>0</td>\n",
       "      <td>0</td>\n",
       "      <td>0</td>\n",
       "      <td>0</td>\n",
       "      <td>0</td>\n",
       "      <td>0</td>\n",
       "      <td>0</td>\n",
       "      <td>0</td>\n",
       "      <td>0</td>\n",
       "      <td>0</td>\n",
       "    </tr>\n",
       "    <tr>\n",
       "      <th>1</th>\n",
       "      <td>1</td>\n",
       "      <td>0</td>\n",
       "      <td>0</td>\n",
       "      <td>0</td>\n",
       "      <td>0</td>\n",
       "      <td>0</td>\n",
       "      <td>0</td>\n",
       "      <td>0</td>\n",
       "      <td>0</td>\n",
       "      <td>0</td>\n",
       "      <td>...</td>\n",
       "      <td>0</td>\n",
       "      <td>0</td>\n",
       "      <td>0</td>\n",
       "      <td>0</td>\n",
       "      <td>0</td>\n",
       "      <td>0</td>\n",
       "      <td>0</td>\n",
       "      <td>0</td>\n",
       "      <td>0</td>\n",
       "      <td>0</td>\n",
       "    </tr>\n",
       "    <tr>\n",
       "      <th>2</th>\n",
       "      <td>1</td>\n",
       "      <td>0</td>\n",
       "      <td>0</td>\n",
       "      <td>0</td>\n",
       "      <td>0</td>\n",
       "      <td>0</td>\n",
       "      <td>0</td>\n",
       "      <td>0</td>\n",
       "      <td>0</td>\n",
       "      <td>0</td>\n",
       "      <td>...</td>\n",
       "      <td>0</td>\n",
       "      <td>0</td>\n",
       "      <td>0</td>\n",
       "      <td>0</td>\n",
       "      <td>0</td>\n",
       "      <td>0</td>\n",
       "      <td>0</td>\n",
       "      <td>0</td>\n",
       "      <td>0</td>\n",
       "      <td>0</td>\n",
       "    </tr>\n",
       "    <tr>\n",
       "      <th>3</th>\n",
       "      <td>1</td>\n",
       "      <td>0</td>\n",
       "      <td>0</td>\n",
       "      <td>0</td>\n",
       "      <td>0</td>\n",
       "      <td>0</td>\n",
       "      <td>0</td>\n",
       "      <td>0</td>\n",
       "      <td>0</td>\n",
       "      <td>0</td>\n",
       "      <td>...</td>\n",
       "      <td>0</td>\n",
       "      <td>0</td>\n",
       "      <td>0</td>\n",
       "      <td>0</td>\n",
       "      <td>0</td>\n",
       "      <td>0</td>\n",
       "      <td>0</td>\n",
       "      <td>0</td>\n",
       "      <td>0</td>\n",
       "      <td>0</td>\n",
       "    </tr>\n",
       "    <tr>\n",
       "      <th>7</th>\n",
       "      <td>1</td>\n",
       "      <td>0</td>\n",
       "      <td>0</td>\n",
       "      <td>0</td>\n",
       "      <td>0</td>\n",
       "      <td>0</td>\n",
       "      <td>0</td>\n",
       "      <td>0</td>\n",
       "      <td>0</td>\n",
       "      <td>0</td>\n",
       "      <td>...</td>\n",
       "      <td>0</td>\n",
       "      <td>0</td>\n",
       "      <td>0</td>\n",
       "      <td>0</td>\n",
       "      <td>0</td>\n",
       "      <td>0</td>\n",
       "      <td>0</td>\n",
       "      <td>0</td>\n",
       "      <td>0</td>\n",
       "      <td>0</td>\n",
       "    </tr>\n",
       "  </tbody>\n",
       "</table>\n",
       "<p>5 rows × 65 columns</p>\n",
       "</div>"
      ],
      "text/plain": [
       "   Alabama  Alaska  American Samoa  Arizona  Arkansas  Bureau of Prisons  \\\n",
       "0        1       0               0        0         0                  0   \n",
       "1        1       0               0        0         0                  0   \n",
       "2        1       0               0        0         0                  0   \n",
       "3        1       0               0        0         0                  0   \n",
       "7        1       0               0        0         0                  0   \n",
       "\n",
       "   California  Colorado  Connecticut  Delaware  ...  United States  Utah  \\\n",
       "0           0         0            0         0  ...              0     0   \n",
       "1           0         0            0         0  ...              0     0   \n",
       "2           0         0            0         0  ...              0     0   \n",
       "3           0         0            0         0  ...              0     0   \n",
       "7           0         0            0         0  ...              0     0   \n",
       "\n",
       "   Vermont  Veterans Health  Virgin Islands  Virginia  Washington  \\\n",
       "0        0                0               0         0           0   \n",
       "1        0                0               0         0           0   \n",
       "2        0                0               0         0           0   \n",
       "3        0                0               0         0           0   \n",
       "7        0                0               0         0           0   \n",
       "\n",
       "   West Virginia  Wisconsin  Wyoming  \n",
       "0              0          0        0  \n",
       "1              0          0        0  \n",
       "2              0          0        0  \n",
       "3              0          0        0  \n",
       "7              0          0        0  \n",
       "\n",
       "[5 rows x 65 columns]"
      ]
     },
     "execution_count": 55,
     "metadata": {},
     "output_type": "execute_result"
    }
   ],
   "source": [
    "dummies = pd.get_dummies(df4.location)\n",
    "dummies.head()"
   ]
  },
  {
   "cell_type": "markdown",
   "metadata": {},
   "source": [
    "Dummy values created for location column with 1 corresponding to respective location and other entries as 0."
   ]
  },
  {
   "cell_type": "markdown",
   "metadata": {},
   "source": [
    "Creating DataFrame _df5_ by adding _dummies values_."
   ]
  },
  {
   "cell_type": "code",
   "execution_count": 57,
   "metadata": {},
   "outputs": [
    {
     "data": {
      "text/html": [
       "<div>\n",
       "<style scoped>\n",
       "    .dataframe tbody tr th:only-of-type {\n",
       "        vertical-align: middle;\n",
       "    }\n",
       "\n",
       "    .dataframe tbody tr th {\n",
       "        vertical-align: top;\n",
       "    }\n",
       "\n",
       "    .dataframe thead th {\n",
       "        text-align: right;\n",
       "    }\n",
       "</style>\n",
       "<table border=\"1\" class=\"dataframe\">\n",
       "  <thead>\n",
       "    <tr style=\"text-align: right;\">\n",
       "      <th></th>\n",
       "      <th>date</th>\n",
       "      <th>location</th>\n",
       "      <th>total_vaccinations</th>\n",
       "      <th>people_vaccinated</th>\n",
       "      <th>Alabama</th>\n",
       "      <th>Alaska</th>\n",
       "      <th>American Samoa</th>\n",
       "      <th>Arizona</th>\n",
       "      <th>Arkansas</th>\n",
       "      <th>Bureau of Prisons</th>\n",
       "      <th>...</th>\n",
       "      <th>United States</th>\n",
       "      <th>Utah</th>\n",
       "      <th>Vermont</th>\n",
       "      <th>Veterans Health</th>\n",
       "      <th>Virgin Islands</th>\n",
       "      <th>Virginia</th>\n",
       "      <th>Washington</th>\n",
       "      <th>West Virginia</th>\n",
       "      <th>Wisconsin</th>\n",
       "      <th>Wyoming</th>\n",
       "    </tr>\n",
       "  </thead>\n",
       "  <tbody>\n",
       "    <tr>\n",
       "      <th>0</th>\n",
       "      <td>2021-01-12</td>\n",
       "      <td>Alabama</td>\n",
       "      <td>78134.0</td>\n",
       "      <td>70861.0</td>\n",
       "      <td>1</td>\n",
       "      <td>0</td>\n",
       "      <td>0</td>\n",
       "      <td>0</td>\n",
       "      <td>0</td>\n",
       "      <td>0</td>\n",
       "      <td>...</td>\n",
       "      <td>0</td>\n",
       "      <td>0</td>\n",
       "      <td>0</td>\n",
       "      <td>0</td>\n",
       "      <td>0</td>\n",
       "      <td>0</td>\n",
       "      <td>0</td>\n",
       "      <td>0</td>\n",
       "      <td>0</td>\n",
       "      <td>0</td>\n",
       "    </tr>\n",
       "    <tr>\n",
       "      <th>1</th>\n",
       "      <td>2021-01-13</td>\n",
       "      <td>Alabama</td>\n",
       "      <td>84040.0</td>\n",
       "      <td>74792.0</td>\n",
       "      <td>1</td>\n",
       "      <td>0</td>\n",
       "      <td>0</td>\n",
       "      <td>0</td>\n",
       "      <td>0</td>\n",
       "      <td>0</td>\n",
       "      <td>...</td>\n",
       "      <td>0</td>\n",
       "      <td>0</td>\n",
       "      <td>0</td>\n",
       "      <td>0</td>\n",
       "      <td>0</td>\n",
       "      <td>0</td>\n",
       "      <td>0</td>\n",
       "      <td>0</td>\n",
       "      <td>0</td>\n",
       "      <td>0</td>\n",
       "    </tr>\n",
       "    <tr>\n",
       "      <th>2</th>\n",
       "      <td>2021-01-14</td>\n",
       "      <td>Alabama</td>\n",
       "      <td>92300.0</td>\n",
       "      <td>80480.0</td>\n",
       "      <td>1</td>\n",
       "      <td>0</td>\n",
       "      <td>0</td>\n",
       "      <td>0</td>\n",
       "      <td>0</td>\n",
       "      <td>0</td>\n",
       "      <td>...</td>\n",
       "      <td>0</td>\n",
       "      <td>0</td>\n",
       "      <td>0</td>\n",
       "      <td>0</td>\n",
       "      <td>0</td>\n",
       "      <td>0</td>\n",
       "      <td>0</td>\n",
       "      <td>0</td>\n",
       "      <td>0</td>\n",
       "      <td>0</td>\n",
       "    </tr>\n",
       "    <tr>\n",
       "      <th>3</th>\n",
       "      <td>2021-01-15</td>\n",
       "      <td>Alabama</td>\n",
       "      <td>100567.0</td>\n",
       "      <td>86956.0</td>\n",
       "      <td>1</td>\n",
       "      <td>0</td>\n",
       "      <td>0</td>\n",
       "      <td>0</td>\n",
       "      <td>0</td>\n",
       "      <td>0</td>\n",
       "      <td>...</td>\n",
       "      <td>0</td>\n",
       "      <td>0</td>\n",
       "      <td>0</td>\n",
       "      <td>0</td>\n",
       "      <td>0</td>\n",
       "      <td>0</td>\n",
       "      <td>0</td>\n",
       "      <td>0</td>\n",
       "      <td>0</td>\n",
       "      <td>0</td>\n",
       "    </tr>\n",
       "    <tr>\n",
       "      <th>7</th>\n",
       "      <td>2021-01-19</td>\n",
       "      <td>Alabama</td>\n",
       "      <td>130795.0</td>\n",
       "      <td>114319.0</td>\n",
       "      <td>1</td>\n",
       "      <td>0</td>\n",
       "      <td>0</td>\n",
       "      <td>0</td>\n",
       "      <td>0</td>\n",
       "      <td>0</td>\n",
       "      <td>...</td>\n",
       "      <td>0</td>\n",
       "      <td>0</td>\n",
       "      <td>0</td>\n",
       "      <td>0</td>\n",
       "      <td>0</td>\n",
       "      <td>0</td>\n",
       "      <td>0</td>\n",
       "      <td>0</td>\n",
       "      <td>0</td>\n",
       "      <td>0</td>\n",
       "    </tr>\n",
       "  </tbody>\n",
       "</table>\n",
       "<p>5 rows × 69 columns</p>\n",
       "</div>"
      ],
      "text/plain": [
       "         date location  total_vaccinations  people_vaccinated  Alabama  \\\n",
       "0  2021-01-12  Alabama             78134.0            70861.0        1   \n",
       "1  2021-01-13  Alabama             84040.0            74792.0        1   \n",
       "2  2021-01-14  Alabama             92300.0            80480.0        1   \n",
       "3  2021-01-15  Alabama            100567.0            86956.0        1   \n",
       "7  2021-01-19  Alabama            130795.0           114319.0        1   \n",
       "\n",
       "   Alaska  American Samoa  Arizona  Arkansas  Bureau of Prisons  ...  \\\n",
       "0       0               0        0         0                  0  ...   \n",
       "1       0               0        0         0                  0  ...   \n",
       "2       0               0        0         0                  0  ...   \n",
       "3       0               0        0         0                  0  ...   \n",
       "7       0               0        0         0                  0  ...   \n",
       "\n",
       "   United States  Utah  Vermont  Veterans Health  Virgin Islands  Virginia  \\\n",
       "0              0     0        0                0               0         0   \n",
       "1              0     0        0                0               0         0   \n",
       "2              0     0        0                0               0         0   \n",
       "3              0     0        0                0               0         0   \n",
       "7              0     0        0                0               0         0   \n",
       "\n",
       "   Washington  West Virginia  Wisconsin  Wyoming  \n",
       "0           0              0          0        0  \n",
       "1           0              0          0        0  \n",
       "2           0              0          0        0  \n",
       "3           0              0          0        0  \n",
       "7           0              0          0        0  \n",
       "\n",
       "[5 rows x 69 columns]"
      ]
     },
     "execution_count": 57,
     "metadata": {},
     "output_type": "execute_result"
    }
   ],
   "source": [
    "df5 = pd.concat([df4, dummies], axis = 'columns')\n",
    "df5.head()"
   ]
  },
  {
   "cell_type": "markdown",
   "metadata": {},
   "source": [
    "__Data is completely clean and is ready for training.__"
   ]
  },
  {
   "cell_type": "markdown",
   "metadata": {},
   "source": [
    "## Training the Model"
   ]
  },
  {
   "cell_type": "markdown",
   "metadata": {},
   "source": [
    "__Preparing train and test data with X as features and Y as labels.__"
   ]
  },
  {
   "cell_type": "code",
   "execution_count": 59,
   "metadata": {},
   "outputs": [
    {
     "data": {
      "text/html": [
       "<div>\n",
       "<style scoped>\n",
       "    .dataframe tbody tr th:only-of-type {\n",
       "        vertical-align: middle;\n",
       "    }\n",
       "\n",
       "    .dataframe tbody tr th {\n",
       "        vertical-align: top;\n",
       "    }\n",
       "\n",
       "    .dataframe thead th {\n",
       "        text-align: right;\n",
       "    }\n",
       "</style>\n",
       "<table border=\"1\" class=\"dataframe\">\n",
       "  <thead>\n",
       "    <tr style=\"text-align: right;\">\n",
       "      <th></th>\n",
       "      <th>total_vaccinations</th>\n",
       "      <th>people_vaccinated</th>\n",
       "      <th>Alabama</th>\n",
       "      <th>Alaska</th>\n",
       "      <th>American Samoa</th>\n",
       "      <th>Arizona</th>\n",
       "      <th>Arkansas</th>\n",
       "      <th>Bureau of Prisons</th>\n",
       "      <th>California</th>\n",
       "      <th>Colorado</th>\n",
       "      <th>...</th>\n",
       "      <th>United States</th>\n",
       "      <th>Utah</th>\n",
       "      <th>Vermont</th>\n",
       "      <th>Veterans Health</th>\n",
       "      <th>Virgin Islands</th>\n",
       "      <th>Virginia</th>\n",
       "      <th>Washington</th>\n",
       "      <th>West Virginia</th>\n",
       "      <th>Wisconsin</th>\n",
       "      <th>Wyoming</th>\n",
       "    </tr>\n",
       "  </thead>\n",
       "  <tbody>\n",
       "    <tr>\n",
       "      <th>0</th>\n",
       "      <td>78134.0</td>\n",
       "      <td>70861.0</td>\n",
       "      <td>1</td>\n",
       "      <td>0</td>\n",
       "      <td>0</td>\n",
       "      <td>0</td>\n",
       "      <td>0</td>\n",
       "      <td>0</td>\n",
       "      <td>0</td>\n",
       "      <td>0</td>\n",
       "      <td>...</td>\n",
       "      <td>0</td>\n",
       "      <td>0</td>\n",
       "      <td>0</td>\n",
       "      <td>0</td>\n",
       "      <td>0</td>\n",
       "      <td>0</td>\n",
       "      <td>0</td>\n",
       "      <td>0</td>\n",
       "      <td>0</td>\n",
       "      <td>0</td>\n",
       "    </tr>\n",
       "    <tr>\n",
       "      <th>1</th>\n",
       "      <td>84040.0</td>\n",
       "      <td>74792.0</td>\n",
       "      <td>1</td>\n",
       "      <td>0</td>\n",
       "      <td>0</td>\n",
       "      <td>0</td>\n",
       "      <td>0</td>\n",
       "      <td>0</td>\n",
       "      <td>0</td>\n",
       "      <td>0</td>\n",
       "      <td>...</td>\n",
       "      <td>0</td>\n",
       "      <td>0</td>\n",
       "      <td>0</td>\n",
       "      <td>0</td>\n",
       "      <td>0</td>\n",
       "      <td>0</td>\n",
       "      <td>0</td>\n",
       "      <td>0</td>\n",
       "      <td>0</td>\n",
       "      <td>0</td>\n",
       "    </tr>\n",
       "    <tr>\n",
       "      <th>2</th>\n",
       "      <td>92300.0</td>\n",
       "      <td>80480.0</td>\n",
       "      <td>1</td>\n",
       "      <td>0</td>\n",
       "      <td>0</td>\n",
       "      <td>0</td>\n",
       "      <td>0</td>\n",
       "      <td>0</td>\n",
       "      <td>0</td>\n",
       "      <td>0</td>\n",
       "      <td>...</td>\n",
       "      <td>0</td>\n",
       "      <td>0</td>\n",
       "      <td>0</td>\n",
       "      <td>0</td>\n",
       "      <td>0</td>\n",
       "      <td>0</td>\n",
       "      <td>0</td>\n",
       "      <td>0</td>\n",
       "      <td>0</td>\n",
       "      <td>0</td>\n",
       "    </tr>\n",
       "    <tr>\n",
       "      <th>3</th>\n",
       "      <td>100567.0</td>\n",
       "      <td>86956.0</td>\n",
       "      <td>1</td>\n",
       "      <td>0</td>\n",
       "      <td>0</td>\n",
       "      <td>0</td>\n",
       "      <td>0</td>\n",
       "      <td>0</td>\n",
       "      <td>0</td>\n",
       "      <td>0</td>\n",
       "      <td>...</td>\n",
       "      <td>0</td>\n",
       "      <td>0</td>\n",
       "      <td>0</td>\n",
       "      <td>0</td>\n",
       "      <td>0</td>\n",
       "      <td>0</td>\n",
       "      <td>0</td>\n",
       "      <td>0</td>\n",
       "      <td>0</td>\n",
       "      <td>0</td>\n",
       "    </tr>\n",
       "    <tr>\n",
       "      <th>7</th>\n",
       "      <td>130795.0</td>\n",
       "      <td>114319.0</td>\n",
       "      <td>1</td>\n",
       "      <td>0</td>\n",
       "      <td>0</td>\n",
       "      <td>0</td>\n",
       "      <td>0</td>\n",
       "      <td>0</td>\n",
       "      <td>0</td>\n",
       "      <td>0</td>\n",
       "      <td>...</td>\n",
       "      <td>0</td>\n",
       "      <td>0</td>\n",
       "      <td>0</td>\n",
       "      <td>0</td>\n",
       "      <td>0</td>\n",
       "      <td>0</td>\n",
       "      <td>0</td>\n",
       "      <td>0</td>\n",
       "      <td>0</td>\n",
       "      <td>0</td>\n",
       "    </tr>\n",
       "  </tbody>\n",
       "</table>\n",
       "<p>5 rows × 67 columns</p>\n",
       "</div>"
      ],
      "text/plain": [
       "   total_vaccinations  people_vaccinated  Alabama  Alaska  American Samoa  \\\n",
       "0             78134.0            70861.0        1       0               0   \n",
       "1             84040.0            74792.0        1       0               0   \n",
       "2             92300.0            80480.0        1       0               0   \n",
       "3            100567.0            86956.0        1       0               0   \n",
       "7            130795.0           114319.0        1       0               0   \n",
       "\n",
       "   Arizona  Arkansas  Bureau of Prisons  California  Colorado  ...  \\\n",
       "0        0         0                  0           0         0  ...   \n",
       "1        0         0                  0           0         0  ...   \n",
       "2        0         0                  0           0         0  ...   \n",
       "3        0         0                  0           0         0  ...   \n",
       "7        0         0                  0           0         0  ...   \n",
       "\n",
       "   United States  Utah  Vermont  Veterans Health  Virgin Islands  Virginia  \\\n",
       "0              0     0        0                0               0         0   \n",
       "1              0     0        0                0               0         0   \n",
       "2              0     0        0                0               0         0   \n",
       "3              0     0        0                0               0         0   \n",
       "7              0     0        0                0               0         0   \n",
       "\n",
       "   Washington  West Virginia  Wisconsin  Wyoming  \n",
       "0           0              0          0        0  \n",
       "1           0              0          0        0  \n",
       "2           0              0          0        0  \n",
       "3           0              0          0        0  \n",
       "7           0              0          0        0  \n",
       "\n",
       "[5 rows x 67 columns]"
      ]
     },
     "execution_count": 59,
     "metadata": {},
     "output_type": "execute_result"
    }
   ],
   "source": [
    "X = df5.drop(['location', 'date'], axis = 'columns')\n",
    "X.head()"
   ]
  },
  {
   "cell_type": "code",
   "execution_count": 60,
   "metadata": {
    "scrolled": false
   },
   "outputs": [
    {
     "data": {
      "text/plain": [
       "0    2021-01-12\n",
       "1    2021-01-13\n",
       "2    2021-01-14\n",
       "3    2021-01-15\n",
       "7    2021-01-19\n",
       "Name: date, dtype: object"
      ]
     },
     "execution_count": 60,
     "metadata": {},
     "output_type": "execute_result"
    }
   ],
   "source": [
    "Y = df5.date\n",
    "Y.head()"
   ]
  },
  {
   "cell_type": "markdown",
   "metadata": {},
   "source": [
    "Spliting the features and labels into 80% training and 20% test data"
   ]
  },
  {
   "cell_type": "code",
   "execution_count": 61,
   "metadata": {},
   "outputs": [],
   "source": [
    "from sklearn.model_selection import train_test_split\n",
    "x_train, x_test, y_train, y_test = train_test_split(X, Y, test_size = 0.2)"
   ]
  },
  {
   "cell_type": "code",
   "execution_count": 62,
   "metadata": {},
   "outputs": [],
   "source": [
    "# Function to predict score\n",
    "def get_score(model, x_train, x_test, y_train, y_test):\n",
    "    model.fit(x_train, y_train)\n",
    "    return model.score(x_test, y_test)"
   ]
  },
  {
   "cell_type": "code",
   "execution_count": 90,
   "metadata": {},
   "outputs": [],
   "source": [
    "from sklearn.model_selection import GridSearchCV\n",
    "\n",
    "# Function to find out the best algorithm with best parameters using GridSearchCV.\n",
    "def find_best_model(X, Y):\n",
    "    algorithm = {\n",
    "        'Linear Regression' : {\n",
    "            'model' : LinearRegression(),\n",
    "            'params' : {\n",
    "                'normalize' : [True, False]\n",
    "            }\n",
    "        },\n",
    "        \n",
    "        'Lasso' : {\n",
    "            'model' : Lasso(),\n",
    "            'params' : {\n",
    "                'alpha' : [1, 2],\n",
    "                'selection' : ['random', 'cyclic']\n",
    "            }\n",
    "        },\n",
    "        \n",
    "        'Decision Tree' : {\n",
    "            'model' : DecisionTreeRegressor(),\n",
    "            'params' : {\n",
    "                'criterion' : ['mse', 'friedman_mse'],\n",
    "                'splitter' : ['best', 'random']\n",
    "            }\n",
    "        }\n",
    "    }\n",
    "    scores = []\n",
    "    cv = ShuffleSplit(n_splits = 5, test_size= 0.2, random_state= 0)\n",
    "    for key, values in algorithm.items():\n",
    "        gs = GridSearchCV(values['model'], values['params'], cv = cv, return_train_score = False)\n",
    "        gs.fit(X, Y)\n",
    "        scores.append({\n",
    "            'model' : key,\n",
    "            'best_score' : gs.best_score_,\n",
    "            'best_params' : gs.best_params_\n",
    "        })\n",
    "    \n",
    "    return pd.DataFrame(scores, columns = ['model', 'best_score', 'best_params'])"
   ]
  },
  {
   "cell_type": "markdown",
   "metadata": {},
   "source": [
    "## Results"
   ]
  },
  {
   "cell_type": "code",
   "execution_count": 91,
   "metadata": {},
   "outputs": [
    {
     "data": {
      "text/html": [
       "<div>\n",
       "<style scoped>\n",
       "    .dataframe tbody tr th:only-of-type {\n",
       "        vertical-align: middle;\n",
       "    }\n",
       "\n",
       "    .dataframe tbody tr th {\n",
       "        vertical-align: top;\n",
       "    }\n",
       "\n",
       "    .dataframe thead th {\n",
       "        text-align: right;\n",
       "    }\n",
       "</style>\n",
       "<table border=\"1\" class=\"dataframe\">\n",
       "  <thead>\n",
       "    <tr style=\"text-align: right;\">\n",
       "      <th></th>\n",
       "      <th>model</th>\n",
       "      <th>best_score</th>\n",
       "      <th>best_params</th>\n",
       "    </tr>\n",
       "  </thead>\n",
       "  <tbody>\n",
       "    <tr>\n",
       "      <th>0</th>\n",
       "      <td>Linear Regression</td>\n",
       "      <td>0.845409</td>\n",
       "      <td>{'normalize': True}</td>\n",
       "    </tr>\n",
       "    <tr>\n",
       "      <th>1</th>\n",
       "      <td>Lasso</td>\n",
       "      <td>0.719253</td>\n",
       "      <td>{'alpha': 1, 'selection': 'cyclic'}</td>\n",
       "    </tr>\n",
       "    <tr>\n",
       "      <th>2</th>\n",
       "      <td>Decision Tree</td>\n",
       "      <td>0.753200</td>\n",
       "      <td>{'criterion': 'friedman_mse', 'splitter': 'ran...</td>\n",
       "    </tr>\n",
       "  </tbody>\n",
       "</table>\n",
       "</div>"
      ],
      "text/plain": [
       "               model  best_score  \\\n",
       "0  Linear Regression    0.845409   \n",
       "1              Lasso    0.719253   \n",
       "2      Decision Tree    0.753200   \n",
       "\n",
       "                                         best_params  \n",
       "0                                {'normalize': True}  \n",
       "1                {'alpha': 1, 'selection': 'cyclic'}  \n",
       "2  {'criterion': 'friedman_mse', 'splitter': 'ran...  "
      ]
     },
     "execution_count": 91,
     "metadata": {},
     "output_type": "execute_result"
    }
   ],
   "source": [
    "find_best_model(X, Y)"
   ]
  },
  {
   "cell_type": "markdown",
   "metadata": {},
   "source": [
    "It turned out that model - __Linear Regression__ has the best score with parameter - __normalize : True__"
   ]
  }
 ],
 "metadata": {
  "kernelspec": {
   "display_name": "Python 3",
   "language": "python",
   "name": "python3"
  },
  "language_info": {
   "codemirror_mode": {
    "name": "ipython",
    "version": 3
   },
   "file_extension": ".py",
   "mimetype": "text/x-python",
   "name": "python",
   "nbconvert_exporter": "python",
   "pygments_lexer": "ipython3",
   "version": "3.7.6"
  }
 },
 "nbformat": 4,
 "nbformat_minor": 4
}
